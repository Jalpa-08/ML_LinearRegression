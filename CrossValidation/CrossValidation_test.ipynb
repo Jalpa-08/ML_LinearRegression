{
 "cells": [
  {
   "cell_type": "code",
   "execution_count": 1,
   "metadata": {},
   "outputs": [],
   "source": [
    "import numpy as np\n",
    "import pandas as pd\n",
    "import matplotlib.pyplot as plt\n",
    "import seaborn as sns"
   ]
  },
  {
   "cell_type": "code",
   "execution_count": 3,
   "id": "b3d54cf4",
   "metadata": {},
   "outputs": [
    {
     "data": {
      "text/html": [
       "<div>\n",
       "<style scoped>\n",
       "    .dataframe tbody tr th:only-of-type {\n",
       "        vertical-align: middle;\n",
       "    }\n",
       "\n",
       "    .dataframe tbody tr th {\n",
       "        vertical-align: top;\n",
       "    }\n",
       "\n",
       "    .dataframe thead th {\n",
       "        text-align: right;\n",
       "    }\n",
       "</style>\n",
       "<table border=\"1\" class=\"dataframe\">\n",
       "  <thead>\n",
       "    <tr style=\"text-align: right;\">\n",
       "      <th></th>\n",
       "      <th>TV</th>\n",
       "      <th>Radio</th>\n",
       "      <th>Newspaper</th>\n",
       "      <th>Sales</th>\n",
       "    </tr>\n",
       "  </thead>\n",
       "  <tbody>\n",
       "    <tr>\n",
       "      <th>0</th>\n",
       "      <td>230.1</td>\n",
       "      <td>37.8</td>\n",
       "      <td>69.2</td>\n",
       "      <td>22.1</td>\n",
       "    </tr>\n",
       "    <tr>\n",
       "      <th>1</th>\n",
       "      <td>44.5</td>\n",
       "      <td>39.3</td>\n",
       "      <td>45.1</td>\n",
       "      <td>10.4</td>\n",
       "    </tr>\n",
       "    <tr>\n",
       "      <th>2</th>\n",
       "      <td>17.2</td>\n",
       "      <td>45.9</td>\n",
       "      <td>69.3</td>\n",
       "      <td>9.3</td>\n",
       "    </tr>\n",
       "    <tr>\n",
       "      <th>3</th>\n",
       "      <td>151.5</td>\n",
       "      <td>41.3</td>\n",
       "      <td>58.5</td>\n",
       "      <td>18.5</td>\n",
       "    </tr>\n",
       "    <tr>\n",
       "      <th>4</th>\n",
       "      <td>180.8</td>\n",
       "      <td>10.8</td>\n",
       "      <td>58.4</td>\n",
       "      <td>12.9</td>\n",
       "    </tr>\n",
       "  </tbody>\n",
       "</table>\n",
       "</div>"
      ],
      "text/plain": [
       "      TV  Radio  Newspaper  Sales\n",
       "0  230.1   37.8       69.2   22.1\n",
       "1   44.5   39.3       45.1   10.4\n",
       "2   17.2   45.9       69.3    9.3\n",
       "3  151.5   41.3       58.5   18.5\n",
       "4  180.8   10.8       58.4   12.9"
      ]
     },
     "execution_count": 3,
     "metadata": {},
     "output_type": "execute_result"
    }
   ],
   "source": [
    "df = pd.read_csv(r\"C:\\Users\\Jalpa\\Desktop\\DATA\\Advertising.csv\")\n",
    "df = df.drop('Unnamed: 0', axis=1)\n",
    "df.head()"
   ]
  },
  {
   "cell_type": "code",
   "execution_count": 4,
   "id": "6cd86fe1",
   "metadata": {},
   "outputs": [
    {
     "data": {
      "text/html": [
       "<div>\n",
       "<style scoped>\n",
       "    .dataframe tbody tr th:only-of-type {\n",
       "        vertical-align: middle;\n",
       "    }\n",
       "\n",
       "    .dataframe tbody tr th {\n",
       "        vertical-align: top;\n",
       "    }\n",
       "\n",
       "    .dataframe thead th {\n",
       "        text-align: right;\n",
       "    }\n",
       "</style>\n",
       "<table border=\"1\" class=\"dataframe\">\n",
       "  <thead>\n",
       "    <tr style=\"text-align: right;\">\n",
       "      <th></th>\n",
       "      <th>TV</th>\n",
       "      <th>Radio</th>\n",
       "      <th>Newspaper</th>\n",
       "    </tr>\n",
       "  </thead>\n",
       "  <tbody>\n",
       "    <tr>\n",
       "      <th>0</th>\n",
       "      <td>230.1</td>\n",
       "      <td>37.8</td>\n",
       "      <td>69.2</td>\n",
       "    </tr>\n",
       "    <tr>\n",
       "      <th>1</th>\n",
       "      <td>44.5</td>\n",
       "      <td>39.3</td>\n",
       "      <td>45.1</td>\n",
       "    </tr>\n",
       "    <tr>\n",
       "      <th>2</th>\n",
       "      <td>17.2</td>\n",
       "      <td>45.9</td>\n",
       "      <td>69.3</td>\n",
       "    </tr>\n",
       "    <tr>\n",
       "      <th>3</th>\n",
       "      <td>151.5</td>\n",
       "      <td>41.3</td>\n",
       "      <td>58.5</td>\n",
       "    </tr>\n",
       "    <tr>\n",
       "      <th>4</th>\n",
       "      <td>180.8</td>\n",
       "      <td>10.8</td>\n",
       "      <td>58.4</td>\n",
       "    </tr>\n",
       "  </tbody>\n",
       "</table>\n",
       "</div>"
      ],
      "text/plain": [
       "      TV  Radio  Newspaper\n",
       "0  230.1   37.8       69.2\n",
       "1   44.5   39.3       45.1\n",
       "2   17.2   45.9       69.3\n",
       "3  151.5   41.3       58.5\n",
       "4  180.8   10.8       58.4"
      ]
     },
     "execution_count": 4,
     "metadata": {},
     "output_type": "execute_result"
    }
   ],
   "source": [
    "X = df.drop('Sales', axis=1)\n",
    "X.head()"
   ]
  },
  {
   "cell_type": "code",
   "execution_count": 5,
   "id": "ad312181",
   "metadata": {},
   "outputs": [
    {
     "data": {
      "text/plain": [
       "0      22.1\n",
       "1      10.4\n",
       "2       9.3\n",
       "3      18.5\n",
       "4      12.9\n",
       "       ... \n",
       "195     7.6\n",
       "196     9.7\n",
       "197    12.8\n",
       "198    25.5\n",
       "199    13.4\n",
       "Name: Sales, Length: 200, dtype: float64"
      ]
     },
     "execution_count": 5,
     "metadata": {},
     "output_type": "execute_result"
    }
   ],
   "source": [
    "y = df['Sales']\n",
    "y"
   ]
  },
  {
   "cell_type": "code",
   "execution_count": 6,
   "id": "54f68773",
   "metadata": {},
   "outputs": [],
   "source": [
    "from sklearn.model_selection import train_test_split"
   ]
  },
  {
   "cell_type": "code",
   "execution_count": 7,
   "id": "f230824f",
   "metadata": {},
   "outputs": [],
   "source": [
    "X_train, X_test, y_train, y_test = train_test_split(X, y, test_size=0.1, random_state=101)"
   ]
  },
  {
   "cell_type": "code",
   "execution_count": 8,
   "id": "1af09353",
   "metadata": {},
   "outputs": [],
   "source": [
    "from sklearn.preprocessing import StandardScaler"
   ]
  },
  {
   "cell_type": "code",
   "execution_count": 9,
   "id": "d13bdbd4",
   "metadata": {},
   "outputs": [],
   "source": [
    "scaler = StandardScaler()"
   ]
  },
  {
   "cell_type": "code",
   "execution_count": 10,
   "id": "17d2bb64",
   "metadata": {},
   "outputs": [],
   "source": [
    "scaled_X_train = scaler.fit_transform(X_train)"
   ]
  },
  {
   "cell_type": "code",
   "execution_count": 11,
   "id": "e5677a68",
   "metadata": {},
   "outputs": [],
   "source": [
    "X_train = scaler.transform(X_train)"
   ]
  },
  {
   "cell_type": "code",
   "execution_count": 13,
   "id": "78496b67",
   "metadata": {},
   "outputs": [],
   "source": [
    "X_test = scaler.transform(X_test)"
   ]
  },
  {
   "cell_type": "code",
   "execution_count": 14,
   "id": "14fa9ba0",
   "metadata": {},
   "outputs": [],
   "source": [
    "from sklearn.linear_model import Ridge"
   ]
  },
  {
   "cell_type": "code",
   "execution_count": 15,
   "id": "39037aac",
   "metadata": {},
   "outputs": [],
   "source": [
    "model = Ridge(alpha=100)"
   ]
  },
  {
   "cell_type": "code",
   "execution_count": 16,
   "id": "1f26daff",
   "metadata": {},
   "outputs": [
    {
     "data": {
      "text/plain": [
       "Ridge(alpha=100)"
      ]
     },
     "execution_count": 16,
     "metadata": {},
     "output_type": "execute_result"
    }
   ],
   "source": [
    "model.fit(X_train, y_train)"
   ]
  },
  {
   "cell_type": "code",
   "execution_count": 17,
   "id": "2bb3b023",
   "metadata": {},
   "outputs": [],
   "source": [
    "y_pred = model.predict(X_test)"
   ]
  },
  {
   "cell_type": "code",
   "execution_count": 18,
   "id": "0de0cc3b",
   "metadata": {},
   "outputs": [],
   "source": [
    "y_pred = model.predict(X_test)"
   ]
  },
  {
   "cell_type": "code",
   "execution_count": 19,
   "id": "bc5b4063",
   "metadata": {},
   "outputs": [],
   "source": [
    "from sklearn.metrics import mean_squared_error"
   ]
  },
  {
   "cell_type": "code",
   "execution_count": 20,
   "id": "8ef446b9",
   "metadata": {},
   "outputs": [
    {
     "data": {
      "text/plain": [
       "4.178797295419647"
      ]
     },
     "execution_count": 20,
     "metadata": {},
     "output_type": "execute_result"
    }
   ],
   "source": [
    "MSE = mean_squared_error(y_pred, y_test)\n",
    "MSE"
   ]
  },
  {
   "cell_type": "code",
   "execution_count": 21,
   "id": "d623becd",
   "metadata": {},
   "outputs": [],
   "source": [
    "model2 = Ridge(alpha=1)"
   ]
  },
  {
   "cell_type": "code",
   "execution_count": 22,
   "id": "290b0051",
   "metadata": {},
   "outputs": [
    {
     "data": {
      "text/plain": [
       "Ridge(alpha=1)"
      ]
     },
     "execution_count": 22,
     "metadata": {},
     "output_type": "execute_result"
    }
   ],
   "source": [
    "model2.fit(X_train, y_train)\n"
   ]
  },
  {
   "cell_type": "code",
   "execution_count": 23,
   "id": "81dfaf1a",
   "metadata": {},
   "outputs": [],
   "source": [
    "ypred2 = model2.predict(X_test)"
   ]
  },
  {
   "cell_type": "code",
   "execution_count": 24,
   "id": "6b0935bc",
   "metadata": {},
   "outputs": [
    {
     "data": {
      "text/plain": [
       "1.7929276024696268"
      ]
     },
     "execution_count": 24,
     "metadata": {},
     "output_type": "execute_result"
    }
   ],
   "source": [
    "MSE = mean_squared_error(ypred2, y_test) #without any validation data\n",
    "MSE"
   ]
  },
  {
   "cell_type": "code",
   "execution_count": 25,
   "id": "f91e40fe",
   "metadata": {},
   "outputs": [
    {
     "data": {
      "text/plain": [
       "1.3390024654456865"
      ]
     },
     "execution_count": 25,
     "metadata": {},
     "output_type": "execute_result"
    }
   ],
   "source": [
    "RMSE = np.sqrt(MSE)\n",
    "RMSE"
   ]
  },
  {
   "cell_type": "code",
   "execution_count": 26,
   "id": "db950bd5",
   "metadata": {},
   "outputs": [],
   "source": [
    "X_train, X_other, y_train, y_other = train_test_split(X,y, test_size=0.3, random_state=101)"
   ]
  },
  {
   "cell_type": "code",
   "execution_count": 27,
   "id": "ffa8e5cb",
   "metadata": {},
   "outputs": [],
   "source": [
    "# test size = 0.3(50% of the 30% data)\n",
    "X_eval, X_test, y_eval, y_test = train_test_split(X_other,y_other, test_size=0.5, random_state=101)"
   ]
  },
  {
   "cell_type": "code",
   "execution_count": 28,
   "id": "1bb9c037",
   "metadata": {},
   "outputs": [
    {
     "data": {
      "text/plain": [
       "200"
      ]
     },
     "execution_count": 28,
     "metadata": {},
     "output_type": "execute_result"
    }
   ],
   "source": [
    "len(df)"
   ]
  },
  {
   "cell_type": "code",
   "execution_count": 29,
   "id": "6e028309",
   "metadata": {},
   "outputs": [
    {
     "data": {
      "text/plain": [
       "140"
      ]
     },
     "execution_count": 29,
     "metadata": {},
     "output_type": "execute_result"
    }
   ],
   "source": [
    "len(X_train)"
   ]
  },
  {
   "cell_type": "code",
   "execution_count": 30,
   "id": "55ee3bb6",
   "metadata": {},
   "outputs": [
    {
     "data": {
      "text/plain": [
       "60"
      ]
     },
     "execution_count": 30,
     "metadata": {},
     "output_type": "execute_result"
    }
   ],
   "source": [
    "len(X_other)"
   ]
  },
  {
   "cell_type": "code",
   "execution_count": 31,
   "id": "5f166b50",
   "metadata": {},
   "outputs": [
    {
     "data": {
      "text/plain": [
       "30"
      ]
     },
     "execution_count": 31,
     "metadata": {},
     "output_type": "execute_result"
    }
   ],
   "source": [
    "len(X_eval)"
   ]
  },
  {
   "cell_type": "code",
   "execution_count": 32,
   "id": "8d815f3b",
   "metadata": {},
   "outputs": [
    {
     "data": {
      "text/plain": [
       "30"
      ]
     },
     "execution_count": 32,
     "metadata": {},
     "output_type": "execute_result"
    }
   ],
   "source": [
    "len(X_test)"
   ]
  },
  {
   "cell_type": "code",
   "execution_count": 33,
   "id": "d740d80e",
   "metadata": {},
   "outputs": [],
   "source": [
    "X_train = scaler.transform(X_train)"
   ]
  },
  {
   "cell_type": "code",
   "execution_count": 34,
   "id": "3a9f9b00",
   "metadata": {},
   "outputs": [],
   "source": [
    "X_test = scaler.transform(X_test)"
   ]
  },
  {
   "cell_type": "code",
   "execution_count": 35,
   "id": "09ee019c",
   "metadata": {},
   "outputs": [],
   "source": [
    "X_eval = scaler.transform(X_eval) #validation data"
   ]
  },
  {
   "cell_type": "code",
   "execution_count": 36,
   "id": "c383bd1b",
   "metadata": {},
   "outputs": [],
   "source": [
    "model3 = Ridge(alpha =100)"
   ]
  },
  {
   "cell_type": "code",
   "execution_count": 37,
   "id": "ec4ecdbf",
   "metadata": {},
   "outputs": [
    {
     "data": {
      "text/plain": [
       "Ridge(alpha=100)"
      ]
     },
     "execution_count": 37,
     "metadata": {},
     "output_type": "execute_result"
    }
   ],
   "source": [
    "model3.fit(X_train, y_train)"
   ]
  },
  {
   "cell_type": "code",
   "execution_count": 38,
   "id": "b5e82b43",
   "metadata": {},
   "outputs": [],
   "source": [
    "y_eval_pred = model3.predict(X_eval)"
   ]
  },
  {
   "cell_type": "code",
   "execution_count": 39,
   "id": "cff2fd4a",
   "metadata": {},
   "outputs": [
    {
     "data": {
      "text/plain": [
       "7.479830541257386"
      ]
     },
     "execution_count": 39,
     "metadata": {},
     "output_type": "execute_result"
    }
   ],
   "source": [
    "MSE = mean_squared_error(y_eval_pred, y_eval)\n",
    "MSE"
   ]
  },
  {
   "cell_type": "code",
   "execution_count": 40,
   "id": "c2948bed",
   "metadata": {},
   "outputs": [],
   "source": [
    "model4 = Ridge(alpha =1)"
   ]
  },
  {
   "cell_type": "code",
   "execution_count": null,
   "id": "a3fcb6f9",
   "metadata": {},
   "outputs": [],
   "source": [
    "model4.fit(X_train, y_train)"
   ]
  },
  {
   "cell_type": "code",
   "execution_count": 41,
   "id": "70293bf1",
   "metadata": {},
   "outputs": [
    {
     "data": {
      "text/plain": [
       "Ridge(alpha=1)"
      ]
     },
     "execution_count": 41,
     "metadata": {},
     "output_type": "execute_result"
    }
   ],
   "source": [
    "model4.fit(X_train, y_train)"
   ]
  },
  {
   "cell_type": "code",
   "execution_count": 42,
   "id": "a65d3136",
   "metadata": {},
   "outputs": [],
   "source": [
    "new_pred_eval = model4.predict(X_eval)"
   ]
  },
  {
   "cell_type": "code",
   "execution_count": 43,
   "id": "c465f535",
   "metadata": {},
   "outputs": [
    {
     "data": {
      "text/plain": [
       "2.3850306107037538"
      ]
     },
     "execution_count": 43,
     "metadata": {},
     "output_type": "execute_result"
    }
   ],
   "source": [
    "MSE = mean_squared_error(new_pred_eval, y_eval)\n",
    "MSE"
   ]
  },
  {
   "cell_type": "code",
   "execution_count": 44,
   "id": "82b7a20f",
   "metadata": {},
   "outputs": [],
   "source": [
    "y_final_test_pred = model4.predict(X_test) #final evaluation on the test set"
   ]
  },
  {
   "cell_type": "code",
   "execution_count": 45,
   "id": "348e5f8f",
   "metadata": {},
   "outputs": [],
   "source": [
    "y_final_test_pred = model4.predict(X_test) #final evaluation on the test set"
   ]
  },
  {
   "cell_type": "code",
   "execution_count": 46,
   "id": "21972a43",
   "metadata": {},
   "outputs": [
    {
     "data": {
      "text/plain": [
       "2.254506513338335"
      ]
     },
     "execution_count": 46,
     "metadata": {},
     "output_type": "execute_result"
    }
   ],
   "source": [
    "MSE = mean_squared_error(y_test, y_final_test_pred) # for training-testing-validation case\n",
    "MSE"
   ]
  },
  {
   "cell_type": "markdown",
   "id": "144af33f",
   "metadata": {},
   "source": [
    "KFold CrossValidation"
   ]
  },
  {
   "cell_type": "code",
   "execution_count": 48,
   "id": "f4b24c4d",
   "metadata": {},
   "outputs": [],
   "source": [
    "## CREATE X and y\n",
    "X = df.drop('Sales',axis=1)\n",
    "y = df['Sales']\n",
    "\n",
    "# TRAIN TEST SPLIT\n",
    "from sklearn.model_selection import train_test_split\n",
    "X_train, X_test, y_train, y_test = train_test_split(X, y, test_size=0.3, random_state=101)\n",
    "\n",
    "# SCALE DATA\n",
    "from sklearn.preprocessing import StandardScaler\n",
    "scaler = StandardScaler()\n",
    "scaler.fit(X_train)\n",
    "X_train = scaler.transform(X_train)\n",
    "X_test = scaler.transform(X_test)"
   ]
  },
  {
   "cell_type": "code",
   "execution_count": 49,
   "id": "86076014",
   "metadata": {},
   "outputs": [],
   "source": [
    "from sklearn.model_selection import cross_val_score"
   ]
  },
  {
   "cell_type": "code",
   "execution_count": 50,
   "id": "f3083840",
   "metadata": {},
   "outputs": [],
   "source": [
    "model = Ridge(alpha=100)"
   ]
  },
  {
   "cell_type": "code",
   "execution_count": 51,
   "id": "beffa1a4",
   "metadata": {},
   "outputs": [],
   "source": [
    "scores = cross_val_score(model, X_train, y_train,scoring='neg_mean_squared_error', cv=5)"
   ]
  },
  {
   "cell_type": "code",
   "execution_count": 52,
   "id": "9e7aecc7",
   "metadata": {},
   "outputs": [
    {
     "data": {
      "text/plain": [
       "8.215396464543607"
      ]
     },
     "execution_count": 52,
     "metadata": {},
     "output_type": "execute_result"
    }
   ],
   "source": [
    "abs(scores.mean())"
   ]
  },
  {
   "cell_type": "code",
   "execution_count": 53,
   "id": "42d69b40",
   "metadata": {},
   "outputs": [],
   "source": [
    "model2 = Ridge(alpha=1)"
   ]
  },
  {
   "cell_type": "code",
   "execution_count": 54,
   "id": "a9654589",
   "metadata": {},
   "outputs": [
    {
     "data": {
      "text/plain": [
       "array([-3.15513238, -1.58086982, -5.40455562, -2.21654481, -4.36709384])"
      ]
     },
     "execution_count": 54,
     "metadata": {},
     "output_type": "execute_result"
    }
   ],
   "source": [
    "scores3 = cross_val_score(model2, X_train, y_train,scoring='neg_mean_squared_error', cv=5)\n",
    "scores3"
   ]
  },
  {
   "cell_type": "code",
   "execution_count": 55,
   "id": "bb30d1e8",
   "metadata": {},
   "outputs": [
    {
     "data": {
      "text/plain": [
       "3.344839296530695"
      ]
     },
     "execution_count": 55,
     "metadata": {},
     "output_type": "execute_result"
    }
   ],
   "source": [
    "abs(scores3.mean())"
   ]
  },
  {
   "cell_type": "code",
   "execution_count": 56,
   "id": "efb8c7df",
   "metadata": {},
   "outputs": [
    {
     "data": {
      "text/plain": [
       "Ridge(alpha=1)"
      ]
     },
     "execution_count": 56,
     "metadata": {},
     "output_type": "execute_result"
    }
   ],
   "source": [
    "model2.fit(X_train, y_train)"
   ]
  },
  {
   "cell_type": "code",
   "execution_count": 57,
   "id": "8a42253e",
   "metadata": {},
   "outputs": [],
   "source": [
    "y_final_test_pred = model2.predict(X_test) #prediction on the final test set(final evaluation)"
   ]
  },
  {
   "cell_type": "code",
   "execution_count": 58,
   "id": "9374ac9f",
   "metadata": {},
   "outputs": [
    {
     "data": {
      "text/plain": [
       "2.3190215794287514"
      ]
     },
     "execution_count": 58,
     "metadata": {},
     "output_type": "execute_result"
    }
   ],
   "source": [
    "MSE = mean_squared_error(y_test, y_final_test_pred) # for training-testing-validation case\n",
    "MSE"
   ]
  },
  {
   "cell_type": "code",
   "execution_count": 60,
   "id": "abd4220c",
   "metadata": {},
   "outputs": [],
   "source": [
    "## CREATE X and y\n",
    "X = df.drop('Sales',axis=1)\n",
    "y = df['Sales']\n",
    "\n",
    "# TRAIN TEST SPLIT\n",
    "from sklearn.model_selection import train_test_split\n",
    "X_train, X_test, y_train, y_test = train_test_split(X, y, test_size=0.3, random_state=101)\n",
    "\n",
    "# SCALE DATA\n",
    "from sklearn.preprocessing import StandardScaler\n",
    "scaler = StandardScaler()\n",
    "scaler.fit(X_train)\n",
    "X_train = scaler.transform(X_train)\n",
    "X_test = scaler.transform(X_test)"
   ]
  },
  {
   "cell_type": "code",
   "execution_count": 61,
   "id": "e52633c9",
   "metadata": {},
   "outputs": [],
   "source": [
    "from sklearn.model_selection import cross_validate"
   ]
  },
  {
   "cell_type": "code",
   "execution_count": 62,
   "id": "e479aa82",
   "metadata": {},
   "outputs": [],
   "source": [
    "model = Ridge(alpha=100)"
   ]
  },
  {
   "cell_type": "code",
   "execution_count": 63,
   "id": "95cdcaa5",
   "metadata": {},
   "outputs": [],
   "source": [
    "scores = cross_validate(model, X_train, y_train, scoring= ['neg_mean_squared_error', 'neg_mean_absolute_error'], cv=10)"
   ]
  },
  {
   "cell_type": "code",
   "execution_count": 64,
   "id": "0d4921c7",
   "metadata": {},
   "outputs": [
    {
     "data": {
      "text/html": [
       "<div>\n",
       "<style scoped>\n",
       "    .dataframe tbody tr th:only-of-type {\n",
       "        vertical-align: middle;\n",
       "    }\n",
       "\n",
       "    .dataframe tbody tr th {\n",
       "        vertical-align: top;\n",
       "    }\n",
       "\n",
       "    .dataframe thead th {\n",
       "        text-align: right;\n",
       "    }\n",
       "</style>\n",
       "<table border=\"1\" class=\"dataframe\">\n",
       "  <thead>\n",
       "    <tr style=\"text-align: right;\">\n",
       "      <th></th>\n",
       "      <th>fit_time</th>\n",
       "      <th>score_time</th>\n",
       "      <th>test_neg_mean_squared_error</th>\n",
       "      <th>test_neg_mean_absolute_error</th>\n",
       "    </tr>\n",
       "  </thead>\n",
       "  <tbody>\n",
       "    <tr>\n",
       "      <th>0</th>\n",
       "      <td>0.000000</td>\n",
       "      <td>0.007997</td>\n",
       "      <td>-6.060671</td>\n",
       "      <td>-1.810212</td>\n",
       "    </tr>\n",
       "    <tr>\n",
       "      <th>1</th>\n",
       "      <td>0.000000</td>\n",
       "      <td>0.000000</td>\n",
       "      <td>-10.627031</td>\n",
       "      <td>-2.541958</td>\n",
       "    </tr>\n",
       "    <tr>\n",
       "      <th>2</th>\n",
       "      <td>0.000000</td>\n",
       "      <td>0.000000</td>\n",
       "      <td>-3.993426</td>\n",
       "      <td>-1.469594</td>\n",
       "    </tr>\n",
       "    <tr>\n",
       "      <th>3</th>\n",
       "      <td>0.000000</td>\n",
       "      <td>0.007996</td>\n",
       "      <td>-5.009494</td>\n",
       "      <td>-1.862769</td>\n",
       "    </tr>\n",
       "    <tr>\n",
       "      <th>4</th>\n",
       "      <td>0.000000</td>\n",
       "      <td>0.000000</td>\n",
       "      <td>-9.141800</td>\n",
       "      <td>-2.520697</td>\n",
       "    </tr>\n",
       "    <tr>\n",
       "      <th>5</th>\n",
       "      <td>0.000000</td>\n",
       "      <td>0.000000</td>\n",
       "      <td>-13.086256</td>\n",
       "      <td>-2.459995</td>\n",
       "    </tr>\n",
       "    <tr>\n",
       "      <th>6</th>\n",
       "      <td>0.008001</td>\n",
       "      <td>0.000000</td>\n",
       "      <td>-3.839405</td>\n",
       "      <td>-1.451971</td>\n",
       "    </tr>\n",
       "    <tr>\n",
       "      <th>7</th>\n",
       "      <td>0.000000</td>\n",
       "      <td>0.000000</td>\n",
       "      <td>-9.058786</td>\n",
       "      <td>-2.377395</td>\n",
       "    </tr>\n",
       "    <tr>\n",
       "      <th>8</th>\n",
       "      <td>0.000000</td>\n",
       "      <td>0.008001</td>\n",
       "      <td>-9.055457</td>\n",
       "      <td>-2.443344</td>\n",
       "    </tr>\n",
       "    <tr>\n",
       "      <th>9</th>\n",
       "      <td>0.000000</td>\n",
       "      <td>0.000000</td>\n",
       "      <td>-5.778882</td>\n",
       "      <td>-1.899797</td>\n",
       "    </tr>\n",
       "  </tbody>\n",
       "</table>\n",
       "</div>"
      ],
      "text/plain": [
       "   fit_time  score_time  test_neg_mean_squared_error  \\\n",
       "0  0.000000    0.007997                    -6.060671   \n",
       "1  0.000000    0.000000                   -10.627031   \n",
       "2  0.000000    0.000000                    -3.993426   \n",
       "3  0.000000    0.007996                    -5.009494   \n",
       "4  0.000000    0.000000                    -9.141800   \n",
       "5  0.000000    0.000000                   -13.086256   \n",
       "6  0.008001    0.000000                    -3.839405   \n",
       "7  0.000000    0.000000                    -9.058786   \n",
       "8  0.000000    0.008001                    -9.055457   \n",
       "9  0.000000    0.000000                    -5.778882   \n",
       "\n",
       "   test_neg_mean_absolute_error  \n",
       "0                     -1.810212  \n",
       "1                     -2.541958  \n",
       "2                     -1.469594  \n",
       "3                     -1.862769  \n",
       "4                     -2.520697  \n",
       "5                     -2.459995  \n",
       "6                     -1.451971  \n",
       "7                     -2.377395  \n",
       "8                     -2.443344  \n",
       "9                     -1.899797  "
      ]
     },
     "execution_count": 64,
     "metadata": {},
     "output_type": "execute_result"
    }
   ],
   "source": [
    "scores = pd.DataFrame(scores)\n",
    "scores"
   ]
  },
  {
   "cell_type": "code",
   "execution_count": 65,
   "id": "000eadc2",
   "metadata": {},
   "outputs": [
    {
     "data": {
      "text/plain": [
       "fit_time                        0.000800\n",
       "score_time                      0.002399\n",
       "test_neg_mean_squared_error    -7.565121\n",
       "test_neg_mean_absolute_error   -2.083773\n",
       "dtype: float64"
      ]
     },
     "execution_count": 65,
     "metadata": {},
     "output_type": "execute_result"
    }
   ],
   "source": [
    "scores.mean()"
   ]
  },
  {
   "cell_type": "code",
   "execution_count": 66,
   "id": "a3987f38",
   "metadata": {},
   "outputs": [],
   "source": [
    "model = Ridge(alpha=1)"
   ]
  },
  {
   "cell_type": "code",
   "execution_count": 67,
   "id": "901016c3",
   "metadata": {},
   "outputs": [],
   "source": [
    "scores = cross_validate(model, X_train, y_train, scoring= ['neg_mean_squared_error', 'neg_mean_absolute_error'], cv=5)"
   ]
  },
  {
   "cell_type": "code",
   "execution_count": 68,
   "id": "3822cbce",
   "metadata": {},
   "outputs": [
    {
     "data": {
      "text/html": [
       "<div>\n",
       "<style scoped>\n",
       "    .dataframe tbody tr th:only-of-type {\n",
       "        vertical-align: middle;\n",
       "    }\n",
       "\n",
       "    .dataframe tbody tr th {\n",
       "        vertical-align: top;\n",
       "    }\n",
       "\n",
       "    .dataframe thead th {\n",
       "        text-align: right;\n",
       "    }\n",
       "</style>\n",
       "<table border=\"1\" class=\"dataframe\">\n",
       "  <thead>\n",
       "    <tr style=\"text-align: right;\">\n",
       "      <th></th>\n",
       "      <th>fit_time</th>\n",
       "      <th>score_time</th>\n",
       "      <th>test_neg_mean_squared_error</th>\n",
       "      <th>test_neg_mean_absolute_error</th>\n",
       "    </tr>\n",
       "  </thead>\n",
       "  <tbody>\n",
       "    <tr>\n",
       "      <th>0</th>\n",
       "      <td>0.007999</td>\n",
       "      <td>0.000000</td>\n",
       "      <td>-3.155132</td>\n",
       "      <td>-1.547117</td>\n",
       "    </tr>\n",
       "    <tr>\n",
       "      <th>1</th>\n",
       "      <td>0.000000</td>\n",
       "      <td>0.008005</td>\n",
       "      <td>-1.580870</td>\n",
       "      <td>-1.026044</td>\n",
       "    </tr>\n",
       "    <tr>\n",
       "      <th>2</th>\n",
       "      <td>0.000000</td>\n",
       "      <td>0.000000</td>\n",
       "      <td>-5.404556</td>\n",
       "      <td>-1.400793</td>\n",
       "    </tr>\n",
       "    <tr>\n",
       "      <th>3</th>\n",
       "      <td>0.007993</td>\n",
       "      <td>0.000000</td>\n",
       "      <td>-2.216545</td>\n",
       "      <td>-1.154251</td>\n",
       "    </tr>\n",
       "    <tr>\n",
       "      <th>4</th>\n",
       "      <td>0.000000</td>\n",
       "      <td>0.000000</td>\n",
       "      <td>-4.367094</td>\n",
       "      <td>-1.470222</td>\n",
       "    </tr>\n",
       "  </tbody>\n",
       "</table>\n",
       "</div>"
      ],
      "text/plain": [
       "   fit_time  score_time  test_neg_mean_squared_error  \\\n",
       "0  0.007999    0.000000                    -3.155132   \n",
       "1  0.000000    0.008005                    -1.580870   \n",
       "2  0.000000    0.000000                    -5.404556   \n",
       "3  0.007993    0.000000                    -2.216545   \n",
       "4  0.000000    0.000000                    -4.367094   \n",
       "\n",
       "   test_neg_mean_absolute_error  \n",
       "0                     -1.547117  \n",
       "1                     -1.026044  \n",
       "2                     -1.400793  \n",
       "3                     -1.154251  \n",
       "4                     -1.470222  "
      ]
     },
     "execution_count": 68,
     "metadata": {},
     "output_type": "execute_result"
    }
   ],
   "source": [
    "scores = pd.DataFrame(scores)\n",
    "scores"
   ]
  },
  {
   "cell_type": "code",
   "execution_count": 69,
   "id": "402e8e7f",
   "metadata": {},
   "outputs": [
    {
     "data": {
      "text/plain": [
       "fit_time                        0.003199\n",
       "score_time                      0.001601\n",
       "test_neg_mean_squared_error    -3.344839\n",
       "test_neg_mean_absolute_error   -1.319685\n",
       "dtype: float64"
      ]
     },
     "execution_count": 69,
     "metadata": {},
     "output_type": "execute_result"
    }
   ],
   "source": [
    "scores.mean()"
   ]
  },
  {
   "cell_type": "code",
   "execution_count": 70,
   "id": "d263d1cd",
   "metadata": {},
   "outputs": [
    {
     "data": {
      "text/plain": [
       "Ridge(alpha=1)"
      ]
     },
     "execution_count": 70,
     "metadata": {},
     "output_type": "execute_result"
    }
   ],
   "source": [
    "model.fit(X_train, y_train)"
   ]
  },
  {
   "cell_type": "code",
   "execution_count": 71,
   "id": "6ab65bcc",
   "metadata": {},
   "outputs": [],
   "source": [
    "y_final_pred = model.predict(X_test)"
   ]
  },
  {
   "cell_type": "code",
   "execution_count": 72,
   "id": "b737df6c",
   "metadata": {},
   "outputs": [
    {
     "data": {
      "text/plain": [
       "2.3190215794287514"
      ]
     },
     "execution_count": 72,
     "metadata": {},
     "output_type": "execute_result"
    }
   ],
   "source": [
    "mean_squared_error(y_test, y_final_pred)"
   ]
  },
  {
   "cell_type": "markdown",
   "id": "d61c2ee5",
   "metadata": {},
   "source": [
    "GridSearchCV"
   ]
  },
  {
   "cell_type": "code",
   "execution_count": 74,
   "id": "9ec6c2fe",
   "metadata": {},
   "outputs": [],
   "source": [
    "## CREATE X and y\n",
    "X = df.drop('Sales',axis=1)\n",
    "y = df['Sales']\n",
    "\n",
    "# TRAIN TEST SPLIT\n",
    "from sklearn.model_selection import train_test_split\n",
    "X_train, X_test, y_train, y_test = train_test_split(X, y, test_size=0.3, random_state=101)\n",
    "\n",
    "# SCALE DATA\n",
    "from sklearn.preprocessing import StandardScaler\n",
    "scaler = StandardScaler()\n",
    "scaler.fit(X_train)\n",
    "X_train = scaler.transform(X_train)\n",
    "X_test = scaler.transform(X_test)"
   ]
  },
  {
   "cell_type": "code",
   "execution_count": 75,
   "id": "977c0d4f",
   "metadata": {},
   "outputs": [],
   "source": [
    "from sklearn.linear_model import ElasticNet"
   ]
  },
  {
   "cell_type": "code",
   "execution_count": 76,
   "id": "a10a6984",
   "metadata": {},
   "outputs": [],
   "source": [
    "base_elastic_model = ElasticNet()"
   ]
  },
  {
   "cell_type": "code",
   "execution_count": 77,
   "id": "dd5c25c7",
   "metadata": {},
   "outputs": [],
   "source": [
    "param_grid = {'alpha': [0.1,1,5,10,100], 'l1_ratio':[0.1, 0.5, 0.7, 0.9, 1]}"
   ]
  },
  {
   "cell_type": "code",
   "execution_count": 78,
   "id": "18ca0803",
   "metadata": {},
   "outputs": [],
   "source": [
    "from sklearn.model_selection import GridSearchCV"
   ]
  },
  {
   "cell_type": "code",
   "execution_count": 79,
   "id": "3e9f30ee",
   "metadata": {},
   "outputs": [],
   "source": [
    "grid_model = GridSearchCV(estimator = base_elastic_model, param_grid = param_grid, scoring='neg_mean_squared_error', cv=5, verbose=3)"
   ]
  },
  {
   "cell_type": "code",
   "execution_count": 80,
   "id": "e5aab913",
   "metadata": {},
   "outputs": [
    {
     "name": "stdout",
     "output_type": "stream",
     "text": [
      "Fitting 5 folds for each of 25 candidates, totalling 125 fits\n",
      "[CV 1/5] END ..........alpha=0.1, l1_ratio=0.1;, score=-3.453 total time=   0.0s\n",
      "[CV 2/5] END ..........alpha=0.1, l1_ratio=0.1;, score=-1.405 total time=   0.0s\n",
      "[CV 3/5] END ..........alpha=0.1, l1_ratio=0.1;, score=-5.789 total time=   0.0s\n",
      "[CV 4/5] END ..........alpha=0.1, l1_ratio=0.1;, score=-2.187 total time=   0.0s\n",
      "[CV 5/5] END ..........alpha=0.1, l1_ratio=0.1;, score=-4.646 total time=   0.0s\n",
      "[CV 1/5] END ..........alpha=0.1, l1_ratio=0.5;, score=-3.325 total time=   0.0s\n",
      "[CV 2/5] END ..........alpha=0.1, l1_ratio=0.5;, score=-1.428 total time=   0.0s\n",
      "[CV 3/5] END ..........alpha=0.1, l1_ratio=0.5;, score=-5.596 total time=   0.0s\n",
      "[CV 4/5] END ..........alpha=0.1, l1_ratio=0.5;, score=-2.163 total time=   0.0s\n",
      "[CV 5/5] END ..........alpha=0.1, l1_ratio=0.5;, score=-4.452 total time=   0.0s\n",
      "[CV 1/5] END ..........alpha=0.1, l1_ratio=0.7;, score=-3.270 total time=   0.0s\n",
      "[CV 2/5] END ..........alpha=0.1, l1_ratio=0.7;, score=-1.442 total time=   0.0s\n",
      "[CV 3/5] END ..........alpha=0.1, l1_ratio=0.7;, score=-5.502 total time=   0.0s\n",
      "[CV 4/5] END ..........alpha=0.1, l1_ratio=0.7;, score=-2.164 total time=   0.0s\n",
      "[CV 5/5] END ..........alpha=0.1, l1_ratio=0.7;, score=-4.357 total time=   0.0s\n",
      "[CV 1/5] END ..........alpha=0.1, l1_ratio=0.9;, score=-3.221 total time=   0.0s\n",
      "[CV 2/5] END ..........alpha=0.1, l1_ratio=0.9;, score=-1.465 total time=   0.0s\n",
      "[CV 3/5] END ..........alpha=0.1, l1_ratio=0.9;, score=-5.416 total time=   0.0s\n",
      "[CV 4/5] END ..........alpha=0.1, l1_ratio=0.9;, score=-2.173 total time=   0.0s\n",
      "[CV 5/5] END ..........alpha=0.1, l1_ratio=0.9;, score=-4.264 total time=   0.0s\n",
      "[CV 1/5] END ............alpha=0.1, l1_ratio=1;, score=-3.207 total time=   0.0s\n",
      "[CV 2/5] END ............alpha=0.1, l1_ratio=1;, score=-1.480 total time=   0.0s\n",
      "[CV 3/5] END ............alpha=0.1, l1_ratio=1;, score=-5.376 total time=   0.0s\n",
      "[CV 4/5] END ............alpha=0.1, l1_ratio=1;, score=-2.182 total time=   0.0s\n",
      "[CV 5/5] END ............alpha=0.1, l1_ratio=1;, score=-4.218 total time=   0.0s\n",
      "[CV 1/5] END ............alpha=1, l1_ratio=0.1;, score=-9.827 total time=   0.0s\n",
      "[CV 2/5] END ............alpha=1, l1_ratio=0.1;, score=-5.262 total time=   0.0s\n",
      "[CV 3/5] END ...........alpha=1, l1_ratio=0.1;, score=-11.875 total time=   0.0s\n",
      "[CV 4/5] END ............alpha=1, l1_ratio=0.1;, score=-7.449 total time=   0.0s\n",
      "[CV 5/5] END ............alpha=1, l1_ratio=0.1;, score=-8.542 total time=   0.0s\n",
      "[CV 1/5] END ............alpha=1, l1_ratio=0.5;, score=-8.707 total time=   0.0s\n",
      "[CV 2/5] END ............alpha=1, l1_ratio=0.5;, score=-4.214 total time=   0.0s\n",
      "[CV 3/5] END ...........alpha=1, l1_ratio=0.5;, score=-10.879 total time=   0.0s\n",
      "[CV 4/5] END ............alpha=1, l1_ratio=0.5;, score=-6.205 total time=   0.0s\n",
      "[CV 5/5] END ............alpha=1, l1_ratio=0.5;, score=-7.173 total time=   0.0s\n",
      "[CV 1/5] END ............alpha=1, l1_ratio=0.7;, score=-7.921 total time=   0.0s\n",
      "[CV 2/5] END ............alpha=1, l1_ratio=0.7;, score=-3.550 total time=   0.0s\n",
      "[CV 3/5] END ...........alpha=1, l1_ratio=0.7;, score=-10.025 total time=   0.0s\n",
      "[CV 4/5] END ............alpha=1, l1_ratio=0.7;, score=-5.380 total time=   0.0s\n",
      "[CV 5/5] END ............alpha=1, l1_ratio=0.7;, score=-6.325 total time=   0.0s\n",
      "[CV 1/5] END ............alpha=1, l1_ratio=0.9;, score=-6.984 total time=   0.0s\n",
      "[CV 2/5] END ............alpha=1, l1_ratio=0.9;, score=-2.790 total time=   0.0s\n",
      "[CV 3/5] END ............alpha=1, l1_ratio=0.9;, score=-8.997 total time=   0.0s\n",
      "[CV 4/5] END ............alpha=1, l1_ratio=0.9;, score=-4.415 total time=   0.0s\n",
      "[CV 5/5] END ............alpha=1, l1_ratio=0.9;, score=-5.546 total time=   0.0s\n",
      "[CV 1/5] END ..............alpha=1, l1_ratio=1;, score=-6.469 total time=   0.0s\n",
      "[CV 2/5] END ..............alpha=1, l1_ratio=1;, score=-2.391 total time=   0.0s\n",
      "[CV 3/5] END ..............alpha=1, l1_ratio=1;, score=-8.410 total time=   0.0s\n",
      "[CV 4/5] END ..............alpha=1, l1_ratio=1;, score=-3.894 total time=   0.0s\n",
      "[CV 5/5] END ..............alpha=1, l1_ratio=1;, score=-5.106 total time=   0.0s\n",
      "[CV 1/5] END ...........alpha=5, l1_ratio=0.1;, score=-22.979 total time=   0.0s\n",
      "[CV 2/5] END ...........alpha=5, l1_ratio=0.1;, score=-15.547 total time=   0.0s\n",
      "[CV 3/5] END ...........alpha=5, l1_ratio=0.1;, score=-23.668 total time=   0.0s\n",
      "[CV 4/5] END ...........alpha=5, l1_ratio=0.1;, score=-19.921 total time=   0.0s\n",
      "[CV 5/5] END ...........alpha=5, l1_ratio=0.1;, score=-16.263 total time=   0.0s\n",
      "[CV 1/5] END ...........alpha=5, l1_ratio=0.5;, score=-27.793 total time=   0.0s\n",
      "[CV 2/5] END ...........alpha=5, l1_ratio=0.5;, score=-18.602 total time=   0.0s\n",
      "[CV 3/5] END ...........alpha=5, l1_ratio=0.5;, score=-27.108 total time=   0.0s\n",
      "[CV 4/5] END ...........alpha=5, l1_ratio=0.5;, score=-23.945 total time=   0.0s\n",
      "[CV 5/5] END ...........alpha=5, l1_ratio=0.5;, score=-18.065 total time=   0.0s\n",
      "[CV 1/5] END ...........alpha=5, l1_ratio=0.7;, score=-29.656 total time=   0.0s\n",
      "[CV 2/5] END ...........alpha=5, l1_ratio=0.7;, score=-21.085 total time=   0.0s\n",
      "[CV 3/5] END ...........alpha=5, l1_ratio=0.7;, score=-29.629 total time=   0.0s\n",
      "[CV 4/5] END ...........alpha=5, l1_ratio=0.7;, score=-26.725 total time=   0.0s\n",
      "[CV 5/5] END ...........alpha=5, l1_ratio=0.7;, score=-20.224 total time=   0.0s\n",
      "[CV 1/5] END ...........alpha=5, l1_ratio=0.9;, score=-31.130 total time=   0.0s\n",
      "[CV 2/5] END ...........alpha=5, l1_ratio=0.9;, score=-22.549 total time=   0.0s\n",
      "[CV 3/5] END ...........alpha=5, l1_ratio=0.9;, score=-31.155 total time=   0.0s\n",
      "[CV 4/5] END ...........alpha=5, l1_ratio=0.9;, score=-27.963 total time=   0.0s\n",
      "[CV 5/5] END ...........alpha=5, l1_ratio=0.9;, score=-21.698 total time=   0.0s\n",
      "[CV 1/5] END .............alpha=5, l1_ratio=1;, score=-31.130 total time=   0.0s\n",
      "[CV 2/5] END .............alpha=5, l1_ratio=1;, score=-22.549 total time=   0.0s\n",
      "[CV 3/5] END .............alpha=5, l1_ratio=1;, score=-31.155 total time=   0.0s\n",
      "[CV 4/5] END .............alpha=5, l1_ratio=1;, score=-27.963 total time=   0.0s\n",
      "[CV 5/5] END .............alpha=5, l1_ratio=1;, score=-21.698 total time=   0.0s\n",
      "[CV 1/5] END ..........alpha=10, l1_ratio=0.1;, score=-27.385 total time=   0.0s\n",
      "[CV 2/5] END ..........alpha=10, l1_ratio=0.1;, score=-19.160 total time=   0.0s\n",
      "[CV 3/5] END ..........alpha=10, l1_ratio=0.1;, score=-27.635 total time=   0.0s\n",
      "[CV 4/5] END ..........alpha=10, l1_ratio=0.1;, score=-24.154 total time=   0.0s\n",
      "[CV 5/5] END ..........alpha=10, l1_ratio=0.1;, score=-18.968 total time=   0.0s\n",
      "[CV 1/5] END ..........alpha=10, l1_ratio=0.5;, score=-31.130 total time=   0.0s\n",
      "[CV 2/5] END ..........alpha=10, l1_ratio=0.5;, score=-22.549 total time=   0.0s\n",
      "[CV 3/5] END ..........alpha=10, l1_ratio=0.5;, score=-31.155 total time=   0.0s\n",
      "[CV 4/5] END ..........alpha=10, l1_ratio=0.5;, score=-27.963 total time=   0.0s\n",
      "[CV 5/5] END ..........alpha=10, l1_ratio=0.5;, score=-21.698 total time=   0.0s\n",
      "[CV 1/5] END ..........alpha=10, l1_ratio=0.7;, score=-31.130 total time=   0.0s\n",
      "[CV 2/5] END ..........alpha=10, l1_ratio=0.7;, score=-22.549 total time=   0.0s\n",
      "[CV 3/5] END ..........alpha=10, l1_ratio=0.7;, score=-31.155 total time=   0.0s\n",
      "[CV 4/5] END ..........alpha=10, l1_ratio=0.7;, score=-27.963 total time=   0.0s\n",
      "[CV 5/5] END ..........alpha=10, l1_ratio=0.7;, score=-21.698 total time=   0.0s\n",
      "[CV 1/5] END ..........alpha=10, l1_ratio=0.9;, score=-31.130 total time=   0.0s\n",
      "[CV 2/5] END ..........alpha=10, l1_ratio=0.9;, score=-22.549 total time=   0.0s\n",
      "[CV 3/5] END ..........alpha=10, l1_ratio=0.9;, score=-31.155 total time=   0.0s\n",
      "[CV 4/5] END ..........alpha=10, l1_ratio=0.9;, score=-27.963 total time=   0.0s\n",
      "[CV 5/5] END ..........alpha=10, l1_ratio=0.9;, score=-21.698 total time=   0.0s\n",
      "[CV 1/5] END ............alpha=10, l1_ratio=1;, score=-31.130 total time=   0.0s\n",
      "[CV 2/5] END ............alpha=10, l1_ratio=1;, score=-22.549 total time=   0.0s\n",
      "[CV 3/5] END ............alpha=10, l1_ratio=1;, score=-31.155 total time=   0.0s\n",
      "[CV 4/5] END ............alpha=10, l1_ratio=1;, score=-27.963 total time=   0.0s\n",
      "[CV 5/5] END ............alpha=10, l1_ratio=1;, score=-21.698 total time=   0.0s\n",
      "[CV 1/5] END .........alpha=100, l1_ratio=0.1;, score=-31.130 total time=   0.0s\n",
      "[CV 2/5] END .........alpha=100, l1_ratio=0.1;, score=-22.549 total time=   0.0s\n",
      "[CV 3/5] END .........alpha=100, l1_ratio=0.1;, score=-31.155 total time=   0.0s\n",
      "[CV 4/5] END .........alpha=100, l1_ratio=0.1;, score=-27.963 total time=   0.0s\n",
      "[CV 5/5] END .........alpha=100, l1_ratio=0.1;, score=-21.698 total time=   0.0s\n",
      "[CV 1/5] END .........alpha=100, l1_ratio=0.5;, score=-31.130 total time=   0.0s\n",
      "[CV 2/5] END .........alpha=100, l1_ratio=0.5;, score=-22.549 total time=   0.0s\n",
      "[CV 3/5] END .........alpha=100, l1_ratio=0.5;, score=-31.155 total time=   0.0s\n",
      "[CV 4/5] END .........alpha=100, l1_ratio=0.5;, score=-27.963 total time=   0.0s\n",
      "[CV 5/5] END .........alpha=100, l1_ratio=0.5;, score=-21.698 total time=   0.0s\n",
      "[CV 1/5] END .........alpha=100, l1_ratio=0.7;, score=-31.130 total time=   0.0s\n",
      "[CV 2/5] END .........alpha=100, l1_ratio=0.7;, score=-22.549 total time=   0.0s\n",
      "[CV 3/5] END .........alpha=100, l1_ratio=0.7;, score=-31.155 total time=   0.0s\n",
      "[CV 4/5] END .........alpha=100, l1_ratio=0.7;, score=-27.963 total time=   0.0s\n",
      "[CV 5/5] END .........alpha=100, l1_ratio=0.7;, score=-21.698 total time=   0.0s\n",
      "[CV 1/5] END .........alpha=100, l1_ratio=0.9;, score=-31.130 total time=   0.0s\n",
      "[CV 2/5] END .........alpha=100, l1_ratio=0.9;, score=-22.549 total time=   0.0s\n",
      "[CV 3/5] END .........alpha=100, l1_ratio=0.9;, score=-31.155 total time=   0.0s\n",
      "[CV 4/5] END .........alpha=100, l1_ratio=0.9;, score=-27.963 total time=   0.0s\n",
      "[CV 5/5] END .........alpha=100, l1_ratio=0.9;, score=-21.698 total time=   0.0s\n",
      "[CV 1/5] END ...........alpha=100, l1_ratio=1;, score=-31.130 total time=   0.0s\n",
      "[CV 2/5] END ...........alpha=100, l1_ratio=1;, score=-22.549 total time=   0.0s\n",
      "[CV 3/5] END ...........alpha=100, l1_ratio=1;, score=-31.155 total time=   0.0s\n",
      "[CV 4/5] END ...........alpha=100, l1_ratio=1;, score=-27.963 total time=   0.0s\n",
      "[CV 5/5] END ...........alpha=100, l1_ratio=1;, score=-21.698 total time=   0.0s\n"
     ]
    },
    {
     "data": {
      "text/plain": [
       "GridSearchCV(cv=5, estimator=ElasticNet(),\n",
       "             param_grid={'alpha': [0.1, 1, 5, 10, 100],\n",
       "                         'l1_ratio': [0.1, 0.5, 0.7, 0.9, 1]},\n",
       "             scoring='neg_mean_squared_error', verbose=3)"
      ]
     },
     "execution_count": 80,
     "metadata": {},
     "output_type": "execute_result"
    }
   ],
   "source": [
    "grid_model.fit(X_train, y_train)"
   ]
  },
  {
   "cell_type": "code",
   "execution_count": 81,
   "id": "e2a4a86b",
   "metadata": {},
   "outputs": [
    {
     "data": {
      "text/plain": [
       "ElasticNet(alpha=0.1, l1_ratio=1)"
      ]
     },
     "execution_count": 81,
     "metadata": {},
     "output_type": "execute_result"
    }
   ],
   "source": [
    "grid_model.best_estimator_"
   ]
  },
  {
   "cell_type": "code",
   "execution_count": 82,
   "id": "740dc851",
   "metadata": {},
   "outputs": [
    {
     "data": {
      "text/plain": [
       "{'alpha': 0.1, 'l1_ratio': 1}"
      ]
     },
     "execution_count": 82,
     "metadata": {},
     "output_type": "execute_result"
    }
   ],
   "source": [
    "grid_model.best_params_"
   ]
  },
  {
   "cell_type": "code",
   "execution_count": 83,
   "id": "0384ed2a",
   "metadata": {},
   "outputs": [
    {
     "data": {
      "text/html": [
       "<div>\n",
       "<style scoped>\n",
       "    .dataframe tbody tr th:only-of-type {\n",
       "        vertical-align: middle;\n",
       "    }\n",
       "\n",
       "    .dataframe tbody tr th {\n",
       "        vertical-align: top;\n",
       "    }\n",
       "\n",
       "    .dataframe thead th {\n",
       "        text-align: right;\n",
       "    }\n",
       "</style>\n",
       "<table border=\"1\" class=\"dataframe\">\n",
       "  <thead>\n",
       "    <tr style=\"text-align: right;\">\n",
       "      <th></th>\n",
       "      <th>mean_fit_time</th>\n",
       "      <th>std_fit_time</th>\n",
       "      <th>mean_score_time</th>\n",
       "      <th>std_score_time</th>\n",
       "      <th>param_alpha</th>\n",
       "      <th>param_l1_ratio</th>\n",
       "      <th>params</th>\n",
       "      <th>split0_test_score</th>\n",
       "      <th>split1_test_score</th>\n",
       "      <th>split2_test_score</th>\n",
       "      <th>split3_test_score</th>\n",
       "      <th>split4_test_score</th>\n",
       "      <th>mean_test_score</th>\n",
       "      <th>std_test_score</th>\n",
       "      <th>rank_test_score</th>\n",
       "    </tr>\n",
       "  </thead>\n",
       "  <tbody>\n",
       "    <tr>\n",
       "      <th>0</th>\n",
       "      <td>0.002142</td>\n",
       "      <td>0.004283</td>\n",
       "      <td>0.0016</td>\n",
       "      <td>0.003200</td>\n",
       "      <td>0.1</td>\n",
       "      <td>0.1</td>\n",
       "      <td>{'alpha': 0.1, 'l1_ratio': 0.1}</td>\n",
       "      <td>-3.453021</td>\n",
       "      <td>-1.405190</td>\n",
       "      <td>-5.789125</td>\n",
       "      <td>-2.187302</td>\n",
       "      <td>-4.645576</td>\n",
       "      <td>-3.496043</td>\n",
       "      <td>1.591601</td>\n",
       "      <td>5</td>\n",
       "    </tr>\n",
       "    <tr>\n",
       "      <th>1</th>\n",
       "      <td>0.003200</td>\n",
       "      <td>0.003919</td>\n",
       "      <td>0.0000</td>\n",
       "      <td>0.000000</td>\n",
       "      <td>0.1</td>\n",
       "      <td>0.5</td>\n",
       "      <td>{'alpha': 0.1, 'l1_ratio': 0.5}</td>\n",
       "      <td>-3.325440</td>\n",
       "      <td>-1.427522</td>\n",
       "      <td>-5.595610</td>\n",
       "      <td>-2.163089</td>\n",
       "      <td>-4.451679</td>\n",
       "      <td>-3.392668</td>\n",
       "      <td>1.506827</td>\n",
       "      <td>4</td>\n",
       "    </tr>\n",
       "    <tr>\n",
       "      <th>2</th>\n",
       "      <td>0.000000</td>\n",
       "      <td>0.000000</td>\n",
       "      <td>0.0000</td>\n",
       "      <td>0.000000</td>\n",
       "      <td>0.1</td>\n",
       "      <td>0.7</td>\n",
       "      <td>{'alpha': 0.1, 'l1_ratio': 0.7}</td>\n",
       "      <td>-3.269880</td>\n",
       "      <td>-1.442432</td>\n",
       "      <td>-5.502437</td>\n",
       "      <td>-2.163950</td>\n",
       "      <td>-4.356738</td>\n",
       "      <td>-3.347088</td>\n",
       "      <td>1.462765</td>\n",
       "      <td>3</td>\n",
       "    </tr>\n",
       "    <tr>\n",
       "      <th>3</th>\n",
       "      <td>0.000000</td>\n",
       "      <td>0.000000</td>\n",
       "      <td>0.0048</td>\n",
       "      <td>0.003919</td>\n",
       "      <td>0.1</td>\n",
       "      <td>0.9</td>\n",
       "      <td>{'alpha': 0.1, 'l1_ratio': 0.9}</td>\n",
       "      <td>-3.221397</td>\n",
       "      <td>-1.465339</td>\n",
       "      <td>-5.416447</td>\n",
       "      <td>-2.173493</td>\n",
       "      <td>-4.263887</td>\n",
       "      <td>-3.308112</td>\n",
       "      <td>1.417693</td>\n",
       "      <td>2</td>\n",
       "    </tr>\n",
       "    <tr>\n",
       "      <th>4</th>\n",
       "      <td>0.001600</td>\n",
       "      <td>0.003199</td>\n",
       "      <td>0.0016</td>\n",
       "      <td>0.003200</td>\n",
       "      <td>0.1</td>\n",
       "      <td>1</td>\n",
       "      <td>{'alpha': 0.1, 'l1_ratio': 1}</td>\n",
       "      <td>-3.206943</td>\n",
       "      <td>-1.480065</td>\n",
       "      <td>-5.376257</td>\n",
       "      <td>-2.182076</td>\n",
       "      <td>-4.218460</td>\n",
       "      <td>-3.292760</td>\n",
       "      <td>1.394613</td>\n",
       "      <td>1</td>\n",
       "    </tr>\n",
       "  </tbody>\n",
       "</table>\n",
       "</div>"
      ],
      "text/plain": [
       "   mean_fit_time  std_fit_time  mean_score_time  std_score_time param_alpha  \\\n",
       "0       0.002142      0.004283           0.0016        0.003200         0.1   \n",
       "1       0.003200      0.003919           0.0000        0.000000         0.1   \n",
       "2       0.000000      0.000000           0.0000        0.000000         0.1   \n",
       "3       0.000000      0.000000           0.0048        0.003919         0.1   \n",
       "4       0.001600      0.003199           0.0016        0.003200         0.1   \n",
       "\n",
       "  param_l1_ratio                           params  split0_test_score  \\\n",
       "0            0.1  {'alpha': 0.1, 'l1_ratio': 0.1}          -3.453021   \n",
       "1            0.5  {'alpha': 0.1, 'l1_ratio': 0.5}          -3.325440   \n",
       "2            0.7  {'alpha': 0.1, 'l1_ratio': 0.7}          -3.269880   \n",
       "3            0.9  {'alpha': 0.1, 'l1_ratio': 0.9}          -3.221397   \n",
       "4              1    {'alpha': 0.1, 'l1_ratio': 1}          -3.206943   \n",
       "\n",
       "   split1_test_score  split2_test_score  split3_test_score  split4_test_score  \\\n",
       "0          -1.405190          -5.789125          -2.187302          -4.645576   \n",
       "1          -1.427522          -5.595610          -2.163089          -4.451679   \n",
       "2          -1.442432          -5.502437          -2.163950          -4.356738   \n",
       "3          -1.465339          -5.416447          -2.173493          -4.263887   \n",
       "4          -1.480065          -5.376257          -2.182076          -4.218460   \n",
       "\n",
       "   mean_test_score  std_test_score  rank_test_score  \n",
       "0        -3.496043        1.591601                5  \n",
       "1        -3.392668        1.506827                4  \n",
       "2        -3.347088        1.462765                3  \n",
       "3        -3.308112        1.417693                2  \n",
       "4        -3.292760        1.394613                1  "
      ]
     },
     "execution_count": 83,
     "metadata": {},
     "output_type": "execute_result"
    }
   ],
   "source": [
    "pd.DataFrame(grid_model.cv_results_).head()"
   ]
  },
  {
   "cell_type": "code",
   "execution_count": 84,
   "id": "ef633038",
   "metadata": {},
   "outputs": [],
   "source": [
    "y_pred = grid_model.predict(X_test)"
   ]
  },
  {
   "cell_type": "code",
   "execution_count": 85,
   "id": "92d5239a",
   "metadata": {},
   "outputs": [
    {
     "data": {
      "text/plain": [
       "2.387342642087474"
      ]
     },
     "execution_count": 85,
     "metadata": {},
     "output_type": "execute_result"
    }
   ],
   "source": [
    "mean_squared_error(y_test, y_pred)"
   ]
  }
 ],
 "metadata": {
  "interpreter": {
   "hash": "e8d8dfa1dd70c53308e035b3d8caafcda1efdd133bdea9951d76424d490e65cd"
  },
  "kernelspec": {
   "display_name": "Python 3.7.0 ('mlclass')",
   "language": "python",
   "name": "python3"
  },
  "language_info": {
   "codemirror_mode": {
    "name": "ipython",
    "version": 3
   },
   "file_extension": ".py",
   "mimetype": "text/x-python",
   "name": "python",
   "nbconvert_exporter": "python",
   "pygments_lexer": "ipython3",
   "version": "3.7.0"
  }
 },
 "nbformat": 4,
 "nbformat_minor": 5
}
